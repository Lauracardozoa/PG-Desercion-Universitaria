{
 "cells": [
  {
   "cell_type": "code",
   "execution_count": 15,
   "metadata": {},
   "outputs": [],
   "source": [
    "#importar librerías\n",
    "import pandas as pd\n",
    "import random\n",
    "import csv\n"
   ]
  },
  {
   "cell_type": "code",
   "execution_count": 16,
   "metadata": {},
   "outputs": [],
   "source": [
    "# Función para determinar una respuesta basada en una probabilidad\n",
    "def get_answer_based_on_probability(probability):\n",
    "    if probability >= 90:\n",
    "        return 5\n",
    "    elif probability >= 70:\n",
    "        return 4\n",
    "    elif probability >= 50:\n",
    "        return 3\n",
    "    elif probability >= 30:\n",
    "        return 2\n",
    "    else:\n",
    "        return 1"
   ]
  },
  {
   "cell_type": "code",
   "execution_count": 17,
   "metadata": {},
   "outputs": [],
   "source": [
    "# Función para mapear respuestas de texto a valores numéricos\n",
    "def map_survey_answers(answer):\n",
    "    if answer == 'Totalmente en desacuerdo':\n",
    "        return 1\n",
    "    elif answer == 'En desacuerdo':\n",
    "        return 2\n",
    "    elif answer == 'No corresponde':\n",
    "        return 3\n",
    "    elif answer == 'De acuerdo':\n",
    "        return 4\n",
    "    elif answer == 'Totalmente de acuerdo':\n",
    "        return 5\n",
    "    else:\n",
    "        return -1 # Valor para respuestas no reconocidas"
   ]
  },
  {
   "cell_type": "code",
   "execution_count": 18,
   "metadata": {},
   "outputs": [
    {
     "name": "stdout",
     "output_type": "stream",
     "text": [
      "191\n"
     ]
    }
   ],
   "source": [
    "# Lista para almacenar todas las respuestas\n",
    "answers = []\n",
    "\n",
    "# Generar 191 conjuntos de respuestas simuladas\n",
    "\n",
    "for i in range(0,191):\n",
    "# Categoría académica\n",
    "    academic_min = 1.115\n",
    "    academic_max = 13.255\n",
    "    academic_weights = [-0.32,0.686,0.803,0.531,0.695]\n",
    "    academic = [random.randint(1,5) for _ in range(5)]\n",
    "    academic_probability = ( sum(a*b for a,b in zip(academic_weights,academic)) - academic_min ) / (academic_max-academic_min)\n",
    "    academic_probability*=100\n",
    "\n",
    "# Categoría económica\n",
    "    economy_min = -1.883\n",
    "    economy_max = 5.993\n",
    "    economy_weights = [-0.642,0.455,0.872]\n",
    "    economy = [random.randint(1,5) for _ in range(3)]\n",
    "    economy_probability = ( sum(a*b for a,b in zip(economy_weights,economy)) - economy_min ) / (economy_max-economy_min)\n",
    "    economy_probability*=100\n",
    "\n",
    "# Categoría familiar\n",
    "    familiar_min = 2.691\n",
    "    familiar_max = 13.455\n",
    "    familiar_weights = [0.466,0.246,0.682,0.686,0.611]\n",
    "    familiar = [random.randint(1,5) for _ in range(5)]\n",
    "    familiar_probability = ( sum(a*b for a,b in zip(familiar_weights,familiar)) - familiar_min ) / (familiar_max-familiar_min)\n",
    "    familiar_probability*=100\n",
    "\n",
    "# Categoría motivacional\n",
    "    motivational_min = -0.855\n",
    "    motivational_max = 9.861\n",
    "    motivational_weights = [-0.314,-0.275,0.55,0.762,0.778]\n",
    "    motivational = [random.randint(1,5) for _ in range(5)]\n",
    "    motivational_probability = ( sum(a*b for a,b in zip(motivational_weights,motivational)) - motivational_min ) / (motivational_max-motivational_min)\n",
    "    motivational_probability*=100\n",
    "\n",
    "# Categoría de salud\n",
    "    health_min = -8.147\n",
    "    health_max = -1.147\n",
    "    health_weights = [-0.637,-0.688,-0.425,0.603]\n",
    "    health = [random.randint(1,5) for _ in range(4)]\n",
    "    health_probability = ( sum(a*b for a,b in zip(health_weights,health)) - health_min ) / (health_max-health_min)\n",
    "    health_probability*=100\n",
    "\n",
    "# Categoría social\n",
    "    social_min = -2.553\n",
    "    social_max = 6.387\n",
    "    social_weights = [0.618,-0.38,0.819,-0.418]\n",
    "    social = [random.randint(1,5) for _ in range(4)]\n",
    "    social_probability = ( sum(a*b for a,b in zip(social_weights,social)) - social_min ) / (social_max-social_min)\n",
    "    social_probability*=100\n",
    "\n",
    "# Calcular intención basada en las probabilidades\n",
    "    intention = [get_answer_based_on_probability((0.228*economy_probability+0.116*social_probability)/0.344),\n",
    "                 get_answer_based_on_probability(health_probability),\n",
    "                 get_answer_based_on_probability((0.1*economy_probability+0.121*social_probability)/0.221),\n",
    "                 get_answer_based_on_probability(familiar_probability)]\n",
    "\n",
    " # Combinar todas las respuestas en una fila\n",
    "    row = academic + economy + familiar + intention + motivational + health + social\n",
    "    answers.append(row)\n",
    "\n",
    "# Leer datos reales del archivo CSV\n",
    "data = pd.read_csv('data.csv')\n",
    "for i in range(data.shape[0]):\n",
    "    row = []\n",
    "    for j in range(data.shape[1]):\n",
    "        if j > 0: # Ignorar la primera columna (probablemente un índice o identificador)\n",
    "            row.append(map_survey_answers(data.iloc[i,j]))\n",
    "    answers.append(row)\n",
    "\n",
    "print(len(answers)) # Imprimir el número total de respuestas"
   ]
  },
  {
   "cell_type": "code",
   "execution_count": 19,
   "metadata": {},
   "outputs": [],
   "source": [
    "# Definir los encabezados para el archivo CSV de salida\n",
    "headers = ['Ac02','Ac03','Ac06','Ac10','Ac13','Ec01','Ec03','Ec05','Fa02','Fa03','Fa07','Fa08','Fa09','In02','In03','In04','In05','Mo02','Mo08','Mo09','Mo10','Mo11','Sa01','Sa02','Sa03','Sa04','So01','So04','So07','So08']\n",
    "\n",
    "# Nombre del archivo de salida\n",
    "output_file = 'answers.csv'\n",
    "\n",
    "# Escribir las respuestas en el archivo CSV\n",
    "with open(output_file, mode='w', newline='') as file:\n",
    "    writer = csv.writer(file)\n",
    "\n",
    "    writer.writerow(headers)\n",
    " \n",
    "    writer.writerows(answers)"
   ]
  }
 ],
 "metadata": {
  "kernelspec": {
   "display_name": ".venv",
   "language": "python",
   "name": "python3"
  },
  "language_info": {
   "codemirror_mode": {
    "name": "ipython",
    "version": 3
   },
   "file_extension": ".py",
   "mimetype": "text/x-python",
   "name": "python",
   "nbconvert_exporter": "python",
   "pygments_lexer": "ipython3",
   "version": "3.12.3"
  }
 },
 "nbformat": 4,
 "nbformat_minor": 2
}
